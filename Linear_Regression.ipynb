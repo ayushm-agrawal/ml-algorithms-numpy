{
  "nbformat": 4,
  "nbformat_minor": 0,
  "metadata": {
    "colab": {
      "name": "Linear_Regression",
      "provenance": [],
      "collapsed_sections": [],
      "machine_shape": "hm",
      "authorship_tag": "ABX9TyOi8q8YaGja54l6oPl74Q2E",
      "include_colab_link": true
    },
    "kernelspec": {
      "name": "python3",
      "display_name": "Python 3"
    },
    "accelerator": "GPU"
  },
  "cells": [
    {
      "cell_type": "markdown",
      "metadata": {
        "id": "view-in-github",
        "colab_type": "text"
      },
      "source": [
        "<a href=\"https://colab.research.google.com/github/ayushm-agrawal/ml-algorithms-numpy/blob/master/Linear_Regression.ipynb\" target=\"_parent\"><img src=\"https://colab.research.google.com/assets/colab-badge.svg\" alt=\"Open In Colab\"/></a>"
      ]
    },
    {
      "cell_type": "markdown",
      "metadata": {
        "id": "Mp-zHCVVe5UH",
        "colab_type": "text"
      },
      "source": [
        "###Imports"
      ]
    },
    {
      "cell_type": "code",
      "metadata": {
        "id": "KzCCGzxcevaj",
        "colab_type": "code",
        "colab": {}
      },
      "source": [
        "import pandas as pd\n",
        "import sklearn\n",
        "import numpy as np\n",
        "np.seterr(divide='ignore', invalid='ignore')\n",
        "import seaborn as sns\n",
        "import statsmodels.api as sm\n",
        "import matplotlib.pyplot as plt\n",
        "from sklearn.linear_model import LinearRegression\n",
        "from sklearn.preprocessing import normalize\n",
        "from sklearn.model_selection import train_test_split\n",
        "# from sklearn.metrics import confusion_matrix, precision_score, recall_score, f1_score, accuracy_score, roc_curve,classification_report"
      ],
      "execution_count": 0,
      "outputs": []
    },
    {
      "cell_type": "markdown",
      "metadata": {
        "id": "RDxs26gNfr_C",
        "colab_type": "text"
      },
      "source": [
        "### Mount Google Drive"
      ]
    },
    {
      "cell_type": "code",
      "metadata": {
        "id": "5fVlpWOvfPOg",
        "colab_type": "code",
        "outputId": "906bff0b-67e5-4429-9586-bef3b02304f8",
        "colab": {
          "base_uri": "https://localhost:8080/",
          "height": 33
        }
      },
      "source": [
        "from google.colab import drive\n",
        "drive.mount('/content/gdrive')\n",
        "root = 'gdrive/My Drive/DeepLearning/MNIST'"
      ],
      "execution_count": 2,
      "outputs": [
        {
          "output_type": "stream",
          "text": [
            "Drive already mounted at /content/gdrive; to attempt to forcibly remount, call drive.mount(\"/content/gdrive\", force_remount=True).\n"
          ],
          "name": "stdout"
        }
      ]
    },
    {
      "cell_type": "markdown",
      "metadata": {
        "id": "ue2yhiA7gbLT",
        "colab_type": "text"
      },
      "source": [
        "#### Print GPU Info"
      ]
    },
    {
      "cell_type": "code",
      "metadata": {
        "id": "sZcUDEYTfu-D",
        "colab_type": "code",
        "outputId": "cafc1035-2838-4b55-8c3d-1313fcef758e",
        "colab": {
          "base_uri": "https://localhost:8080/",
          "height": 300
        }
      },
      "source": [
        "gpu_info = !nvidia-smi\n",
        "gpu_info = '\\n'.join(gpu_info)\n",
        "if gpu_info.find('failed') >= 0:\n",
        "  print('Select the Runtime → \"Change runtime type\" menu to enable a GPU accelerator, ')\n",
        "  print('and then re-execute this cell.')\n",
        "else:\n",
        "  print(gpu_info)"
      ],
      "execution_count": 3,
      "outputs": [
        {
          "output_type": "stream",
          "text": [
            "Thu Feb 20 23:00:41 2020       \n",
            "+-----------------------------------------------------------------------------+\n",
            "| NVIDIA-SMI 440.48.02    Driver Version: 418.67       CUDA Version: 10.1     |\n",
            "|-------------------------------+----------------------+----------------------+\n",
            "| GPU  Name        Persistence-M| Bus-Id        Disp.A | Volatile Uncorr. ECC |\n",
            "| Fan  Temp  Perf  Pwr:Usage/Cap|         Memory-Usage | GPU-Util  Compute M. |\n",
            "|===============================+======================+======================|\n",
            "|   0  Tesla P100-PCIE...  Off  | 00000000:00:04.0 Off |                    0 |\n",
            "| N/A   34C    P0    28W / 250W |      0MiB / 16280MiB |      0%      Default |\n",
            "+-------------------------------+----------------------+----------------------+\n",
            "                                                                               \n",
            "+-----------------------------------------------------------------------------+\n",
            "| Processes:                                                       GPU Memory |\n",
            "|  GPU       PID   Type   Process name                             Usage      |\n",
            "|=============================================================================|\n",
            "|  No running processes found                                                 |\n",
            "+-----------------------------------------------------------------------------+\n"
          ],
          "name": "stdout"
        }
      ]
    },
    {
      "cell_type": "code",
      "metadata": {
        "id": "OLKz9K1YgdJz",
        "colab_type": "code",
        "outputId": "bbc5fe70-d2ac-4961-dc5f-242da1e15d1b",
        "colab": {
          "base_uri": "https://localhost:8080/",
          "height": 66
        }
      },
      "source": [
        "from psutil import virtual_memory\n",
        "ram_gb = virtual_memory().total / 1e9\n",
        "print('Your runtime has {:.1f} gigabytes of available RAM\\n'.format(ram_gb))\n",
        "\n",
        "if ram_gb < 20:\n",
        "  print('To enable a high-RAM runtime, select the Runtime → \"Change runtime type\"')\n",
        "  print('menu, and then select High-RAM in the Runtime shape dropdown. Then, ')\n",
        "  print('re-execute this cell.')\n",
        "else:\n",
        "  print('You are using a high-RAM runtime!')"
      ],
      "execution_count": 4,
      "outputs": [
        {
          "output_type": "stream",
          "text": [
            "Your runtime has 27.4 gigabytes of available RAM\n",
            "\n",
            "You are using a high-RAM runtime!\n"
          ],
          "name": "stdout"
        }
      ]
    },
    {
      "cell_type": "markdown",
      "metadata": {
        "id": "A0WKu_rgiXPp",
        "colab_type": "text"
      },
      "source": [
        "### Load Data"
      ]
    },
    {
      "cell_type": "code",
      "metadata": {
        "id": "mfv2OWAJgx6a",
        "colab_type": "code",
        "outputId": "f177df31-9e65-4a14-f1e2-f1b49b05ce2a",
        "colab": {
          "base_uri": "https://localhost:8080/",
          "height": 50
        }
      },
      "source": [
        "train_data = np.load('/content/gdrive/My Drive/DeepLearning/MNIST/mnist_train_images.npy')\n",
        "train_labels = np.load('/content/gdrive/My Drive/DeepLearning/MNIST/mnist_train_labels.npy')\n",
        "\n",
        "test_data = np.load('/content/gdrive/My Drive/DeepLearning/MNIST/mnist_test_images.npy')\n",
        "test_labels = np.load('/content/gdrive/My Drive/DeepLearning/MNIST/mnist_test_labels.npy')\n",
        "print(\"Train Data: {}... \\tTrain Labels: {}...\".format(train_data.shape, train_labels.shape))\n",
        "print(\"Test Data: {}... \\tTest Labels: {}...\".format(test_data.shape, test_labels.shape))"
      ],
      "execution_count": 5,
      "outputs": [
        {
          "output_type": "stream",
          "text": [
            "Train Data: (55000, 784)... \tTrain Labels: (55000, 10)...\n",
            "Test Data: (10000, 784)... \tTest Labels: (10000, 10)...\n"
          ],
          "name": "stdout"
        }
      ]
    },
    {
      "cell_type": "markdown",
      "metadata": {
        "id": "sL3VzQwQIiEb",
        "colab_type": "text"
      },
      "source": [
        "### Metrics"
      ]
    },
    {
      "cell_type": "code",
      "metadata": {
        "id": "cs-3uhmhIjw4",
        "colab_type": "code",
        "colab": {}
      },
      "source": [
        "class Metrics:\n",
        "\n",
        "  def __init__(self, X, y):\n",
        "    self.X = X\n",
        "    self.y = y\n",
        "    self.n_samples = len(y)\n",
        "\n",
        "  def cost(self, params):\n",
        "    '''\n",
        "      Half squared mean error\n",
        "      Returns:\n",
        "        cost of the current step\n",
        "    '''\n",
        "    hypothesis = self.X @ params\n",
        "    cost = 1/(2*self.n_samples)* np.sum(hypothesis - self.y)**2\n",
        "\n",
        "    return cost\n",
        "  \n",
        "  def gradient_descent(self, params, learn_rate, n_iters):\n",
        "    ''' \n",
        "    Calculates the gradient descent algorithm\n",
        "    to minimize the cost\n",
        "    Args:\n",
        "      learn_rate - how big steps to take while minimizing the cost\n",
        "      n_iters  - number of iterations for gradient descent\n",
        "    Returns:\n",
        "      cost_history - numpy ndarray of updated cost value after each iteration\n",
        "      params - updated parameters after minimizing the cost\n",
        "    '''\n",
        "    cost_history = np.zeros((n_iters, 1))\n",
        "    print(\"Number of Iterations: {}\".format(n_iters))\n",
        "    for i in range(n_iters):\n",
        "      print(\"Current iter: {}\".format(i+1), end=\"\\r\")\n",
        "      params = params - (learn_rate/self.n_samples) * self.X.T @ (self.X @ params - self.y)\n",
        "      cost_history[i] = self.cost(params)\n",
        "    print(\"\")\n",
        "    return (cost_history, params)"
      ],
      "execution_count": 0,
      "outputs": []
    },
    {
      "cell_type": "markdown",
      "metadata": {
        "id": "RAZAqiE8QqsZ",
        "colab_type": "text"
      },
      "source": [
        "### Linear Regression"
      ]
    },
    {
      "cell_type": "code",
      "metadata": {
        "id": "7huAkku6Qspx",
        "colab_type": "code",
        "colab": {}
      },
      "source": [
        "class MyLinearRegression:\n",
        "  def __init__(self, X, y, learn_rate=0.03, n_iters=1500):\n",
        "\n",
        "    self.learn_rate = learn_rate\n",
        "    self.n_iter = n_iters\n",
        "    self.n_samples = len(y)\n",
        "    # self.X = np.hstack((np.ones(\n",
        "    #         (self.n_samples, 1)), (X - np.mean(X, 0)) / np.std(X, 0)))\n",
        "    # self.y = y[:, np.newaxis]\n",
        "    self.X = np.hstack((np.ones((self.n_samples, 1)), X))\n",
        "    self.y = y\n",
        "    self.n_features = np.size(X, 1)\n",
        "    self.classes = np.size(y, 1)\n",
        "    # self.params = np.zeros((self.n_features + 1, 1))\n",
        "    # self.coef_ = None\n",
        "    # self.intercept_ = None\n",
        "\n",
        "  def fit(self):\n",
        "    print(\"Number of Iterations: {}\".format(self.n_iter))\n",
        "    print(\"Features.shape: {}\".format(self.X.shape))\n",
        "    print(\"Labels shape: {}\".format(self.y.shape))\n",
        "    print(\"Number of features: {}\".format(self.n_features))\n",
        "    params = np.zeros((self.n_features + 1, self.classes))\n",
        "    print(\"Params shape: {}\".format(params.shape))\n",
        "    for i in range(self.n_iter):\n",
        "      print(\"Current iteration: {}\".format(i+1), end=\"\\r\")\n",
        "      params = params - (self.learn_rate/self.n_samples) * self.X.T @ (self.X @ params - self.y)\n",
        "      # print(\"Params: {}\".format(self.params), end=\"\\r\")\n",
        "    # self.intercept_ = self.params[0]\n",
        "    # self.coef_ = self.params[1:]\n",
        "    \n",
        "    return params\n",
        "\n",
        "  def score(self, params, X=None, y=None):\n",
        "\n",
        "    if X is None:\n",
        "      X = self.X\n",
        "    else:\n",
        "      n_samples = np.size(X,0)\n",
        "      X = np.hstack((np.ones((n_samples, 1)), X))\n",
        "    \n",
        "    if y is None:\n",
        "      y = self.y\n",
        "    # else:\n",
        "    #   y = y[:, np.newaxis]\n",
        "\n",
        "    y_pred = X @ params\n",
        "    score = 1 - (((y-y_pred)**2).sum() / ((y-y.mean())**2).sum())\n",
        "\n",
        "    return score\n",
        "\n",
        "  def predict(self, params):\n",
        "    n_samples = np.size(self.X, 0)\n",
        "    y = self.X @ params\n",
        "    return y\n",
        "\n",
        "  def get_params(self):\n",
        "\n",
        "    return self.params"
      ],
      "execution_count": 0,
      "outputs": []
    },
    {
      "cell_type": "markdown",
      "metadata": {
        "id": "kQNN7hRhP6X5",
        "colab_type": "text"
      },
      "source": [
        "### Normalize Data"
      ]
    },
    {
      "cell_type": "code",
      "metadata": {
        "id": "Ihz67TXgP1Yh",
        "colab_type": "code",
        "outputId": "9c82e7c0-479d-4098-fc27-f146f4d50c22",
        "colab": {
          "base_uri": "https://localhost:8080/",
          "height": 50
        }
      },
      "source": [
        "# utilizing SK-Learn to normalize the data before passing it through the gradient descent function\n",
        "X_sk = normalize(train_data, norm='l2', axis=1, copy=True, return_norm=False)\n",
        "y_sk = train_labels\n",
        "print(X_sk.shape)\n",
        "print(y_sk.shape)"
      ],
      "execution_count": 8,
      "outputs": [
        {
          "output_type": "stream",
          "text": [
            "(55000, 784)\n",
            "(55000, 10)\n"
          ],
          "name": "stdout"
        }
      ]
    },
    {
      "cell_type": "markdown",
      "metadata": {
        "id": "brnCzjFjXmKv",
        "colab_type": "text"
      },
      "source": [
        "### Running Gradient Descent"
      ]
    },
    {
      "cell_type": "code",
      "metadata": {
        "id": "I8L1LdWwXrla",
        "colab_type": "code",
        "outputId": "5aaafac6-f8ad-4c5e-b68b-905d029179f8",
        "colab": {
          "base_uri": "https://localhost:8080/",
          "height": 511
        }
      },
      "source": [
        "n_iters = 1500\n",
        "learning_rate = 0.01\n",
        "X_sk = np.hstack((np.ones((len(y_sk),1)), X_sk))\n",
        "\n",
        "params = np.zeros((np.size(X_sk, 1), 1))\n",
        "metrics = Metrics(X_sk, y_sk)\n",
        "init_cost = metrics.cost(params)\n",
        "\n",
        "print(\"Initial Cost: {}\".format(init_cost))\n",
        "\n",
        "(cost_history, params) = metrics.gradient_descent(params, learning_rate, n_iters)\n",
        "\n",
        "print(\"Optimal parameters are: \\n\", params, \"\\n\")\n",
        "\n",
        "print(\"Final cost is: \", cost_history[-1])\n",
        "\n",
        "plt.plot(range(len(cost_history)), cost_history, 'r')\n",
        "\n",
        "plt.title(\"Convergence Graph of Cost Function\")\n",
        "plt.xlabel(\"Number of Iterations\")\n",
        "plt.ylabel(\"Cost\")\n",
        "plt.show()"
      ],
      "execution_count": 9,
      "outputs": [
        {
          "output_type": "stream",
          "text": [
            "Initial Cost: 27500.0\n",
            "Number of Iterations: 1500\n",
            "\n",
            "Optimal parameters are: \n",
            " [[0.07917581 0.1191234  0.07171404 ... 0.09211563 0.02821782 0.05442129]\n",
            " [0.         0.         0.         ... 0.         0.         0.        ]\n",
            " [0.         0.         0.         ... 0.         0.         0.        ]\n",
            " ...\n",
            " [0.         0.         0.         ... 0.         0.         0.        ]\n",
            " [0.         0.         0.         ... 0.         0.         0.        ]\n",
            " [0.         0.         0.         ... 0.         0.         0.        ]] \n",
            "\n",
            "Final cost is:  [0.04549526]\n"
          ],
          "name": "stdout"
        },
        {
          "output_type": "display_data",
          "data": {
            "image/png": "[encoded data removed]",
            "text/plain": [
              "<Figure size 432x288 with 1 Axes>"
            ]
          },
          "metadata": {
            "tags": []
          }
        }
      ]
    },
    {
      "cell_type": "markdown",
      "metadata": {
        "id": "cQcHQGFAZ4HI",
        "colab_type": "text"
      },
      "source": [
        "### Comparing with SK-Learn Models"
      ]
    },
    {
      "cell_type": "code",
      "metadata": {
        "id": "bsOqGk7yYqJq",
        "colab_type": "code",
        "outputId": "ac354719-115c-4dcb-ca52-45b73002766b",
        "colab": {
          "base_uri": "https://localhost:8080/",
          "height": 544
        }
      },
      "source": [
        "\n",
        "X_sk = normalize(train_data, norm='l2', axis=1, copy=True, return_norm=False)\n",
        "y_sk = train_labels\n",
        "lr = MyLinearRegression(X_sk, y_sk, learn_rate=0.03, n_iters=1500)\n",
        "optimal_params = lr.fit()\n",
        "print(\"Optimal Params: \\n{}\\n\".format(optimal_params))\n",
        "sk_learn_lr = LinearRegression().fit(X_sk, y_sk)\n",
        "\n",
        "accuracy_train = lr.score(optimal_params)\n",
        "sk_accuracy_train = sk_learn_lr.score(X_sk, y_sk)\n",
        "print(\"Train accuracy: {}\\n\".format(accuracy_train))\n",
        "\n",
        "X_test = normalize(test_data, norm='l2', axis=1, copy=True, return_norm=False)\n",
        "y_test = test_labels\n",
        "\n",
        "accuracy_test = lr.score(optimal_params, X = X_test, y = y_test)\n",
        "print(\"Test Acccuracy: {}\\n\".format(accuracy_test))\n",
        "sk_accuracy_test = sk_learn_lr.score(X_test, y_test)\n",
        "print(\"\\n\\n\")\n",
        "pd.DataFrame([[accuracy_train, sk_accuracy_train],\n",
        "              [accuracy_test, sk_accuracy_test]],\n",
        "             ['Training Accuracy', 'Test Accuracy'],    \n",
        "             ['Our Implementation', 'Sklearn\\'s Implementation'])"
      ],
      "execution_count": 10,
      "outputs": [
        {
          "output_type": "stream",
          "text": [
            "Number of Iterations: 1500\n",
            "Features.shape: (55000, 785)\n",
            "Labels shape: (55000, 10)\n",
            "Number of features: 784\n",
            "Params shape: (785, 10)\n",
            "Optimal Params: \n",
            "[[0.07917581 0.1191234  0.07171404 ... 0.09211563 0.02821782 0.05442129]\n",
            " [0.         0.         0.         ... 0.         0.         0.        ]\n",
            " [0.         0.         0.         ... 0.         0.         0.        ]\n",
            " ...\n",
            " [0.         0.         0.         ... 0.         0.         0.        ]\n",
            " [0.         0.         0.         ... 0.         0.         0.        ]\n",
            " [0.         0.         0.         ... 0.         0.         0.        ]]\n",
            "\n",
            "Train accuracy: 0.26072651895122234\n",
            "\n",
            "Test Acccuracy: 0.2643806455082093\n",
            "\n",
            "\n",
            "\n",
            "\n"
          ],
          "name": "stdout"
        },
        {
          "output_type": "stream",
          "text": [
            "/usr/local/lib/python3.6/dist-packages/sklearn/base.py:434: FutureWarning: The default value of multioutput (not exposed in score method) will change from 'variance_weighted' to 'uniform_average' in 0.23 to keep consistent with 'metrics.r2_score'. To specify the default value manually and avoid the warning, please either call 'metrics.r2_score' directly or make a custom scorer with 'metrics.make_scorer' (the built-in scorer 'r2' uses multioutput='uniform_average').\n",
            "  \"multioutput='uniform_average').\", FutureWarning)\n",
            "/usr/local/lib/python3.6/dist-packages/sklearn/base.py:434: FutureWarning: The default value of multioutput (not exposed in score method) will change from 'variance_weighted' to 'uniform_average' in 0.23 to keep consistent with 'metrics.r2_score'. To specify the default value manually and avoid the warning, please either call 'metrics.r2_score' directly or make a custom scorer with 'metrics.make_scorer' (the built-in scorer 'r2' uses multioutput='uniform_average').\n",
            "  \"multioutput='uniform_average').\", FutureWarning)\n"
          ],
          "name": "stderr"
        },
        {
          "output_type": "execute_result",
          "data": {
            "text/html": [
              "<div>\n",
              "<style scoped>\n",
              "    .dataframe tbody tr th:only-of-type {\n",
              "        vertical-align: middle;\n",
              "    }\n",
              "\n",
              "    .dataframe tbody tr th {\n",
              "        vertical-align: top;\n",
              "    }\n",
              "\n",
              "    .dataframe thead th {\n",
              "        text-align: right;\n",
              "    }\n",
              "</style>\n",
              "<table border=\"1\" class=\"dataframe\">\n",
              "  <thead>\n",
              "    <tr style=\"text-align: right;\">\n",
              "      <th></th>\n",
              "      <th>Our Implementation</th>\n",
              "      <th>Sklearn's Implementation</th>\n",
              "    </tr>\n",
              "  </thead>\n",
              "  <tbody>\n",
              "    <tr>\n",
              "      <th>Training Accuracy</th>\n",
              "      <td>0.260727</td>\n",
              "      <td>0.595065</td>\n",
              "    </tr>\n",
              "    <tr>\n",
              "      <th>Test Accuracy</th>\n",
              "      <td>0.264381</td>\n",
              "      <td>0.590740</td>\n",
              "    </tr>\n",
              "  </tbody>\n",
              "</table>\n",
              "</div>"
            ],
            "text/plain": [
              "                   Our Implementation  Sklearn's Implementation\n",
              "Training Accuracy            0.260727                  0.595065\n",
              "Test Accuracy                0.264381                  0.590740"
            ]
          },
          "metadata": {
            "tags": []
          },
          "execution_count": 10
        }
      ]
    },
    {
      "cell_type": "code",
      "metadata": {
        "id": "TgzZZIYwzZY4",
        "colab_type": "code",
        "colab": {
          "base_uri": "https://localhost:8080/",
          "height": 33
        },
        "outputId": "4d9eccf5-3afb-433d-dff4-99c4c0a4d01e"
      },
      "source": [
        "y_pred = lr.predict(optimal_params)\n",
        "print(sklearn.metrics.r2_score(y_sk, y_pred))"
      ],
      "execution_count": 11,
      "outputs": [
        {
          "output_type": "stream",
          "text": [
            "0.25654301128603035\n"
          ],
          "name": "stdout"
        }
      ]
    }
  ]
}